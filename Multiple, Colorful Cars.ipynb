{
 "cells": [
  {
   "cell_type": "markdown",
   "metadata": {},
   "source": [
    "# Creating colorful cars\n",
    "\n",
    "Now, the `car.py` file has been modified so that `__init__` takes in an optional color parameter!\n",
    "\n",
    "Your tasks for this notebook are:\n",
    "1. Create multiple cars of different colors\n",
    "2. Move them around and display the result\n",
    "3. (Optional) Add another variable to __init__ like maximum_speed or a boolean true or false depending on if the car has good speakers. It's up to you!\n",
    "\n",
    "Your options for color values include:\n",
    "* b: blue\n",
    "* g: green\n",
    "* r: red\n",
    "* c: cyan\n",
    "* m: magenta\n",
    "* y: yellow\n",
    "* k: black\n",
    "* w: white\n",
    "\n",
    "More color info can be found, [here](https://matplotlib.org/api/colors_api.html)."
   ]
  },
  {
   "cell_type": "code",
   "execution_count": 1,
   "metadata": {},
   "outputs": [],
   "source": [
    "import numpy as np\n",
    "import car\n",
    "\n",
    "%matplotlib inline\n",
    "\n",
    "# Auto-reload function so that this notebook keeps up with \n",
    "# changes in the class file \n",
    "%load_ext autoreload\n",
    "%autoreload 2"
   ]
  },
  {
   "cell_type": "markdown",
   "metadata": {},
   "source": [
    "### Define some initial variables"
   ]
  },
  {
   "cell_type": "code",
   "execution_count": 2,
   "metadata": {},
   "outputs": [],
   "source": [
    "# Create a 2D world of 0's\n",
    "height = 4\n",
    "width = 6\n",
    "world = np.zeros((height, width))\n",
    "\n",
    "# Define the initial car state\n",
    "initial_position = [0, 0] # [y, x] (top-left corner)\n",
    "velocity = [0, 1] # [vy, vx] (moving to the right)\n"
   ]
  },
  {
   "cell_type": "code",
   "execution_count": 3,
   "metadata": {},
   "outputs": [],
   "source": [
    "## TODO: Create two cars of different colors and display their different worlds\n",
    "position1 = [0,2]\n",
    "velocity1=[0,3]\n",
    "gari =car.Car(position1,velocity1,world,'m')\n",
    "\n"
   ]
  },
  {
   "cell_type": "code",
   "execution_count": 4,
   "metadata": {},
   "outputs": [
    {
     "data": {
      "image/png": "[encoded data removed]",
      "text/plain": [
       "<matplotlib.figure.Figure at 0x7f563036bb38>"
      ]
     },
     "metadata": {
      "needs_background": "light"
     },
     "output_type": "display_data"
    }
   ],
   "source": [
    "gari.move()\n",
    "gari.display_world()"
   ]
  },
  {
   "cell_type": "code",
   "execution_count": 6,
   "metadata": {},
   "outputs": [
    {
     "data": {
      "image/png": "[encoded data removed]",
      "text/plain": [
       "<matplotlib.figure.Figure at 0x7f56147e2fd0>"
      ]
     },
     "metadata": {
      "needs_background": "light"
     },
     "output_type": "display_data"
    }
   ],
   "source": [
    "position1 = [2,2]\n",
    "velocity1=[2,3]\n",
    "mom =car.Car(position1,velocity1,world,'c')\n",
    "\n",
    "mom.move()\n",
    "mom.move()\n",
    "mom.move()\n",
    "mom.move()\n",
    "mom.display_world()"
   ]
  },
  {
   "cell_type": "markdown",
   "metadata": {
    "collapsed": true
   },
   "source": [
    "You can also check out one potential solution to this in the solution notebook, which can be found by clicking on \"Jupyter\" in the top left."
   ]
  }
 ],
 "metadata": {
  "anaconda-cloud": {},
  "kernelspec": {
   "display_name": "Python 3",
   "language": "python",
   "name": "python3"
  },
  "language_info": {
   "codemirror_mode": {
    "name": "ipython",
    "version": 3
   },
   "file_extension": ".py",
   "mimetype": "text/x-python",
   "name": "python",
   "nbconvert_exporter": "python",
   "pygments_lexer": "ipython3",
   "version": "3.6.3"
  }
 },
 "nbformat": 4,
 "nbformat_minor": 1
}
